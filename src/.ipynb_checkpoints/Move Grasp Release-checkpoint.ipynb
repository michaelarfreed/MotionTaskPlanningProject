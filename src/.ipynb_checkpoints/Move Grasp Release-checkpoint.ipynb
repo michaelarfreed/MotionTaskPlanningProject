{
 "cells": [
  {
   "cell_type": "code",
   "execution_count": 1,
   "metadata": {},
   "outputs": [],
   "source": [
    "def waitrobot(robot):\n",
    "    \"\"\"busy wait for robot completion\"\"\"\n",
    "    while not robot.GetController().IsDone():\n",
    "        time.sleep(0.01)"
   ]
  },
  {
   "cell_type": "code",
   "execution_count": null,
   "metadata": {},
   "outputs": [
    {
     "name": "stderr",
     "output_type": "stream",
     "text": [
      "No handlers could be found for logger \"openravepy.ikfast\"\n"
     ]
    }
   ],
   "source": [
    "import time\n",
    "import openravepy\n",
    "import numpy as np\n",
    "env = openravepy.Environment()\n",
    "env.SetViewer('qtcoin')\n",
    "env.Load('data/pr2test2.env.xml')\n",
    "robot = env.GetRobots()[0]\n",
    "\n",
    "#manip = robot.SetActiveManipulator('leftarm_torso') # set the manipulator to leftarm + torso\n",
    "manip = robot.SetActiveManipulator('leftarm') # set the manipulator to leftarm\n",
    "ikmodel = openravepy.databases.inversekinematics.InverseKinematicsModel(robot,iktype=openravepy.IkParameterization.Type.Transform6D)\n",
    "if not ikmodel.load():\n",
    "    ikmodel.autogenerate()\n",
    "basemanip = openravepy.interfaces.BaseManipulation(robot)\n",
    "taskprob = openravepy.interfaces.TaskManipulation(robot)\n",
    "\n",
    "target=env.GetKinBody('TibitsBox1')\n",
    "with env:\n",
    "    jointnames = ['l_shoulder_lift_joint','l_elbow_flex_joint','l_wrist_flex_joint','r_shoulder_lift_joint','r_elbow_flex_joint','r_wrist_flex_joint']\n",
    "    robot.SetActiveDOFs([robot.GetJoint(name).GetDOFIndex() for name in jointnames])\n",
    "    basemanip.MoveActiveJoints(goal=[1.29023451,-2.32099996,-0.69800004,1.27843491,-2.32100002,-0.69799996])\n",
    "robot.WaitForController(0)"
   ]
  },
  {
   "cell_type": "code",
   "execution_count": null,
   "metadata": {},
   "outputs": [],
   "source": [
    "print 'move robot base to target'\n",
    "teleport = False\n",
    "with env:\n",
    "    if teleport:\n",
    "        th = 0\n",
    "        z = robot.GetTransform()[2,3]\n",
    "        th = 0        \n",
    "        x, y = 2.8, -1.3\n",
    "        T = openravepy.matrixFromAxisAngle([0,0,th])\n",
    "        T[:, -1] = [x, y, z, 1]\n",
    "        robot.SetTransform(T)\n",
    "    else:\n",
    "        robot.SetActiveDOFs([],openravepy.DOFAffine.X|openravepy.DOFAffine.Y|openravepy.DOFAffine.RotationAxis,[0,0,1])\n",
    "        basemanip.MoveActiveJoints(goal=[2.8,-1.3,0],maxiter=5000,steplength=0.15,maxtries=2)"
   ]
  },
  {
   "cell_type": "code",
   "execution_count": null,
   "metadata": {},
   "outputs": [],
   "source": [
    "robot.WaitForController(0)\n",
    "taskprob.ReleaseFingers()"
   ]
  },
  {
   "cell_type": "code",
   "execution_count": null,
   "metadata": {},
   "outputs": [],
   "source": [
    "print 'move the arm to the target'\n",
    "Tgoal = np.array([[0,-1,0,3.5],[-1,0,0,-1.3],[0,0,-1,0.842],[0,0,0,1]])\n",
    "res = basemanip.MoveToHandPosition(matrices=[Tgoal],seedik=16)\n",
    "robot.WaitForController(0)"
   ]
  },
  {
   "cell_type": "code",
   "execution_count": null,
   "metadata": {},
   "outputs": [],
   "source": [
    "taskprob.CloseFingers()\n",
    "robot.WaitForController(0)"
   ]
  },
  {
   "cell_type": "code",
   "execution_count": null,
   "metadata": {},
   "outputs": [],
   "source": [
    "print 'move the arm with the target back to the initial position'\n",
    "with env:\n",
    "    robot.Grab(target)\n",
    "    basemanip.MoveManipulator(goal=[0, 0, 1.29023451, 0, -2.32099996, 0, -0.69800004, 0])\n",
    "robot.WaitForController(0)"
   ]
  },
  {
   "cell_type": "code",
   "execution_count": null,
   "metadata": {},
   "outputs": [],
   "source": [
    "print 'move the robot to another location'\n",
    "with env:\n",
    "    robot.SetActiveDOFs([],openravepy.DOFAffine.X|openravepy.DOFAffine.Y|openravepy.DOFAffine.RotationAxis,[0,0,1])\n",
    "    localgoal = [0,2.4,0]\n",
    "    T = robot.GetTransform()\n",
    "    goal = np.dot(T[0:3,0:3],localgoal) + T[0:3,3]\n",
    "    with robot:\n",
    "        robot.SetActiveDOFValues(goal)\n",
    "        incollision = env.CheckCollision(robot)\n",
    "        if incollision:\n",
    "            print 'goal in collision!!'"
   ]
  },
  {
   "cell_type": "code",
   "execution_count": null,
   "metadata": {},
   "outputs": [],
   "source": [
    "basemanip.MoveActiveJoints(goal=goal,maxiter=5000,steplength=0.15,maxtries=2)\n",
    "robot.WaitForController(0)"
   ]
  },
  {
   "cell_type": "code",
   "execution_count": null,
   "metadata": {},
   "outputs": [],
   "source": [
    "print 'move the arm to the designated position on another table to place the target down'\n",
    "Tgoal = np.array([[0,-1,0,3.5],[-1,0,0,1.5],[0,0,-1,0.855],[0,0,0,1]])\n",
    "res = basemanip.MoveToHandPosition(matrices=[Tgoal],seedik=16)\n",
    "robot.WaitForController(0)"
   ]
  },
  {
   "cell_type": "code",
   "execution_count": 9,
   "metadata": {},
   "outputs": [
    {
     "data": {
      "text/plain": [
       "True"
      ]
     },
     "execution_count": 9,
     "metadata": {},
     "output_type": "execute_result"
    }
   ],
   "source": [
    "taskprob.ReleaseFingers(target=target)\n",
    "robot.WaitForController(0)"
   ]
  },
  {
   "cell_type": "code",
   "execution_count": 10,
   "metadata": {},
   "outputs": [
    {
     "name": "stdout",
     "output_type": "stream",
     "text": [
      "move manipulator to initial position\n"
     ]
    },
    {
     "data": {
      "text/plain": [
       "True"
      ]
     },
     "execution_count": 10,
     "metadata": {},
     "output_type": "execute_result"
    }
   ],
   "source": [
    "print 'move manipulator to initial position'\n",
    "basemanip.MoveManipulator(goal=[0, 0, 1.29023451, 0, -2.32099996, 0, -0.69800004, 0])\n",
    "robot.WaitForController(0)"
   ]
  },
  {
   "cell_type": "code",
   "execution_count": 11,
   "metadata": {},
   "outputs": [
    {
     "name": "stdout",
     "output_type": "stream",
     "text": [
      "close fingers until collision\n"
     ]
    },
    {
     "data": {
      "text/plain": [
       "True"
      ]
     },
     "execution_count": 11,
     "metadata": {},
     "output_type": "execute_result"
    }
   ],
   "source": [
    "print 'close fingers until collision'\n",
    "taskprob.CloseFingers()\n",
    "robot.WaitForController(0)"
   ]
  },
  {
   "cell_type": "code",
   "execution_count": null,
   "metadata": {},
   "outputs": [],
   "source": []
  }
 ],
 "metadata": {
  "kernelspec": {
   "display_name": "Python 2",
   "language": "python",
   "name": "python2"
  },
  "language_info": {
   "codemirror_mode": {
    "name": "ipython",
    "version": 2
   },
   "file_extension": ".py",
   "mimetype": "text/x-python",
   "name": "python",
   "nbconvert_exporter": "python",
   "pygments_lexer": "ipython2",
   "version": "2.7.17"
  }
 },
 "nbformat": 4,
 "nbformat_minor": 1
}

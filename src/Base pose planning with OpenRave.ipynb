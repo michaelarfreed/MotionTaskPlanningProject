{
 "cells": [
  {
   "cell_type": "markdown",
   "metadata": {},
   "source": [
    "#Base pose planning with OpenRave\n",
    "\n",
    "**Disclaimer:**  \n",
    "This is my first attempt at a tutorial using IPython notebooks. This is made all too complicated by the fact that I am using [OpenRave](http://openrave.org/docs/latest_stable/) that launches an external process with th viewer. To create this post I used [nbconvert](https://github.com/ipython/nbconvert) then imported the resulting html in Wordpress. The result is not very \"bloggy\" but it's kind of cool. I am open to suggestions for how to embed an IPython notebook into Wordpress. The same notebook can be viewed via [nbviewer](http://nbviewer.ipython.org/urls/raw.github.com/lorenzoriano/OpenRaving/master/Base%2520pose%2520planning%2520with%2520OpenRave.ipynb).\n",
    "\n",
    "A useful tool in robotics is to find base poses from where an object can be reached. This is not an easy problem and it is the subject of ongoing research from groups around the world. Below is my simple take at it: if you know up something about the the world's geometry (tables, objects, planes), then you can look for feasible solutions. Searching can be done in several different ways, but the approach I'm using here is as simple as effective: **sample**. This boils down to generating random solutions until one looks good. It seems crude but it does the job and it can be used as the starting point for more complex methods.\n",
    "\n",
    "For those of you more into robotics, you will see an obvious parallel with [Rapidly-exploring Random Trees (RRTs)](http://msl.cs.uiuc.edu/rrt/), or in general stochastic motion planning.\n",
    "\n",
    "This code assumes you have downloaded the helping routines from my [Github](https://github.com/lorenzoriano/OpenRaving) repository. You don't need the whole lot (which is not much at the time of writing, but hopefully it will grow larger), just the files [generate_reaching_poses](https://raw.github.com/lorenzoriano/OpenRaving/master/generate_reaching_poses.py) [navigation](https://raw.github.com/lorenzoriano/OpenRaving/master/navigation.py) and [utils](https://raw.github.com/lorenzoriano/OpenRaving/master/navigation.py).\n",
    "\n",
    "Below is a [video](http://www.youtube.com/watch?v=o-sQ4nlPmVU) that shows the execution of exactly the same code as in this notebook, so you can see the effects without trying."
   ]
  },
  {
   "cell_type": "code",
   "execution_count": 1,
   "metadata": {},
   "outputs": [
    {
     "data": {
      "image/jpeg": "[encoded data removed]",
      "text/html": [
       "\n",
       "        <iframe\n",
       "            width=\"853\"\n",
       "            height=\"480\"\n",
       "            src=\"https://www.youtube.com/embed/o-sQ4nlPmVU\"\n",
       "            frameborder=\"0\"\n",
       "            allowfullscreen\n",
       "        ></iframe>\n",
       "        "
      ],
      "text/plain": [
       "<IPython.lib.display.YouTubeVideo at 0x7f7fcc179ad0>"
      ]
     },
     "execution_count": 1,
     "metadata": {},
     "output_type": "execute_result"
    }
   ],
   "source": [
    "from IPython.display import YouTubeVideo\n",
    "YouTubeVideo('o-sQ4nlPmVU', width=853, height=480)"
   ]
  },
  {
   "cell_type": "markdown",
   "metadata": {},
   "source": [
    "The first thing is to load the environment and the viewer. I am using a standard room provided by the OpenRave distribution."
   ]
  },
  {
   "cell_type": "code",
   "execution_count": 2,
   "metadata": {},
   "outputs": [],
   "source": [
    "import openravepy; \n",
    "import numpy as np\n",
    "env = openravepy.Environment()\n",
    "env.SetViewer('qtcoin')\n",
    "env.Load('data/pr2test2.env.xml');"
   ]
  },
  {
   "cell_type": "markdown",
   "metadata": {},
   "source": [
    "Then load my code and select the object to grasp and the surface where to place it."
   ]
  },
  {
   "cell_type": "code",
   "execution_count": 7,
   "metadata": {},
   "outputs": [
    {
     "ename": "ImportError",
     "evalue": "No module named trajoptpy.math_utils",
     "output_type": "error",
     "traceback": [
      "\u001b[0;31m---------------------------------------------------------------------------\u001b[0m",
      "\u001b[0;31mImportError\u001b[0m                               Traceback (most recent call last)",
      "\u001b[0;32m<ipython-input-7-9846ca071879>\u001b[0m in \u001b[0;36m<module>\u001b[0;34m()\u001b[0m\n\u001b[1;32m      1\u001b[0m \u001b[0;31m#%cd ~/src/source_code/src #change this to the folder where you have placed your code.\u001b[0m\u001b[0;34m\u001b[0m\u001b[0;34m\u001b[0m\u001b[0m\n\u001b[0;32m----> 2\u001b[0;31m \u001b[0;32mimport\u001b[0m \u001b[0mgenerate_reaching_poses\u001b[0m\u001b[0;34m\u001b[0m\u001b[0m\n\u001b[0m\u001b[1;32m      3\u001b[0m \u001b[0;32mimport\u001b[0m \u001b[0mutils\u001b[0m\u001b[0;34m\u001b[0m\u001b[0m\n\u001b[1;32m      4\u001b[0m \u001b[0mrobot\u001b[0m \u001b[0;34m=\u001b[0m \u001b[0menv\u001b[0m\u001b[0;34m.\u001b[0m\u001b[0mGetRobots\u001b[0m\u001b[0;34m(\u001b[0m\u001b[0;34m)\u001b[0m\u001b[0;34m[\u001b[0m\u001b[0;36m0\u001b[0m\u001b[0;34m]\u001b[0m\u001b[0;34m;\u001b[0m \u001b[0mmanip\u001b[0m \u001b[0;34m=\u001b[0m \u001b[0mrobot\u001b[0m\u001b[0;34m.\u001b[0m\u001b[0mSetActiveManipulator\u001b[0m\u001b[0;34m(\u001b[0m\u001b[0;34m'rightarm'\u001b[0m\u001b[0;34m)\u001b[0m\u001b[0;34m\u001b[0m\u001b[0m\n\u001b[1;32m      5\u001b[0m \u001b[0mobj\u001b[0m \u001b[0;34m=\u001b[0m \u001b[0menv\u001b[0m\u001b[0;34m.\u001b[0m\u001b[0mGetKinBody\u001b[0m\u001b[0;34m(\u001b[0m\u001b[0;34m'TibitsBox1'\u001b[0m\u001b[0;34m)\u001b[0m\u001b[0;34m\u001b[0m\u001b[0m\n",
      "\u001b[0;32m/home/michaela/src/source_code/src/generate_reaching_poses.py\u001b[0m in \u001b[0;36m<module>\u001b[0;34m()\u001b[0m\n\u001b[1;32m      4\u001b[0m \u001b[0;32mimport\u001b[0m \u001b[0mnumpy\u001b[0m \u001b[0;32mas\u001b[0m \u001b[0mnp\u001b[0m\u001b[0;34m\u001b[0m\u001b[0m\n\u001b[1;32m      5\u001b[0m \u001b[0;34m\u001b[0m\u001b[0m\n\u001b[0;32m----> 6\u001b[0;31m \u001b[0;32mimport\u001b[0m \u001b[0mreachability\u001b[0m\u001b[0;34m\u001b[0m\u001b[0m\n\u001b[0m\u001b[1;32m      7\u001b[0m \u001b[0;32mimport\u001b[0m \u001b[0mutils\u001b[0m\u001b[0;34m\u001b[0m\u001b[0m\n\u001b[1;32m      8\u001b[0m \u001b[0;32mimport\u001b[0m \u001b[0msys\u001b[0m\u001b[0;34m\u001b[0m\u001b[0m\n",
      "\u001b[0;32m/home/michaela/src/source_code/src/reachability.py\u001b[0m in \u001b[0;36m<module>\u001b[0;34m()\u001b[0m\n\u001b[1;32m      1\u001b[0m \u001b[0;32mimport\u001b[0m \u001b[0mgenerate_reaching_poses\u001b[0m\u001b[0;34m\u001b[0m\u001b[0m\n\u001b[0;32m----> 2\u001b[0;31m \u001b[0;32mimport\u001b[0m \u001b[0mutils\u001b[0m\u001b[0;34m\u001b[0m\u001b[0m\n\u001b[0m\u001b[1;32m      3\u001b[0m \u001b[0;32mimport\u001b[0m \u001b[0mopenravepy\u001b[0m\u001b[0;34m\u001b[0m\u001b[0m\n\u001b[1;32m      4\u001b[0m \u001b[0;32mimport\u001b[0m \u001b[0mtime\u001b[0m\u001b[0;34m\u001b[0m\u001b[0m\n\u001b[1;32m      5\u001b[0m \u001b[0;34m\u001b[0m\u001b[0m\n",
      "\u001b[0;32m/home/michaela/src/source_code/src/utils.py\u001b[0m in \u001b[0;36m<module>\u001b[0;34m()\u001b[0m\n\u001b[0;32m----> 1\u001b[0;31m \u001b[0;32mimport\u001b[0m \u001b[0mtrajoptpy\u001b[0m\u001b[0;34m.\u001b[0m\u001b[0mmath_utils\u001b[0m \u001b[0;32mas\u001b[0m \u001b[0mmu\u001b[0m\u001b[0;34m\u001b[0m\u001b[0m\n\u001b[0m\u001b[1;32m      2\u001b[0m \u001b[0;32mimport\u001b[0m \u001b[0mnumpy\u001b[0m \u001b[0;32mas\u001b[0m \u001b[0mnp\u001b[0m\u001b[0;34m\u001b[0m\u001b[0m\n\u001b[1;32m      3\u001b[0m \u001b[0;32mimport\u001b[0m \u001b[0mopenravepy\u001b[0m\u001b[0;34m\u001b[0m\u001b[0m\n\u001b[1;32m      4\u001b[0m \u001b[0;32mimport\u001b[0m \u001b[0mre\u001b[0m\u001b[0;34m\u001b[0m\u001b[0m\n\u001b[1;32m      5\u001b[0m \u001b[0;32mimport\u001b[0m \u001b[0mmath\u001b[0m\u001b[0;34m\u001b[0m\u001b[0m\n",
      "\u001b[0;31mImportError\u001b[0m: No module named trajoptpy.math_utils"
     ]
    }
   ],
   "source": [
    "#%cd ~/src/source_code/src #change this to the folder where you have placed your code.\n",
    "import generate_reaching_poses\n",
    "import utils\n",
    "robot = env.GetRobots()[0]; manip = robot.SetActiveManipulator('rightarm')\n",
    "obj = env.GetKinBody('TibitsBox1')\n",
    "table = env.GetKinBody('Table1')"
   ]
  },
  {
   "cell_type": "markdown",
   "metadata": {},
   "source": [
    "It's always a good idea to fold the arms before moving."
   ]
  },
  {
   "cell_type": "code",
   "execution_count": 6,
   "metadata": {},
   "outputs": [],
   "source": [
    "utils.pr2_tuck_arm(robot)"
   ]
  },
  {
   "cell_type": "markdown",
   "metadata": {},
   "source": [
    "Now come the first important part. First thing is to generate grasping positions for the gripper (this can be a long process). Then find a base position from where the gripper pose admits an IK solution, and which is collision free. Then plan a base trajectory to that position and executes it."
   ]
  },
  {
   "cell_type": "code",
   "execution_count": 7,
   "metadata": {},
   "outputs": [],
   "source": [
    "pose, sol, torso = generate_reaching_poses.get_collision_free_grasping_pose(robot, obj, 300, use_general_grasps=False)\n",
    "import navigation; planner = navigation.SimpleNavigationPlanning(robot)\n",
    "planner.performNavigationPlanning(pose, execute=True)\n",
    "robot.GetController().Reset()"
   ]
  },
  {
   "cell_type": "markdown",
   "metadata": {},
   "source": [
    "Once the robot has reached the base pose, lift the torso to the height found above. We are going to use motion planning to move the gripper in position, just to show some nice arm movements."
   ]
  },
  {
   "cell_type": "code",
   "execution_count": 8,
   "metadata": {},
   "outputs": [],
   "source": [
    "robot.SetTransform(pose)\n",
    "robot.SetDOFValues([torso], [robot.GetJointIndex('torso_lift_joint')],)"
   ]
  },
  {
   "cell_type": "markdown",
   "metadata": {},
   "source": [
    "Here motion plannign kicks in. Give it some time."
   ]
  },
  {
   "cell_type": "code",
   "execution_count": 9,
   "metadata": {},
   "outputs": [],
   "source": [
    "mplanner = openravepy.interfaces.BaseManipulation(robot)\n",
    "robot.SetActiveDOFs(manip.GetArmIndices()); \n",
    "mplanner.MoveActiveJoints(sol)\n",
    "robot.WaitForController(0);"
   ]
  },
  {
   "cell_type": "markdown",
   "metadata": {},
   "source": [
    "Ok, time to grab the object. We don't deal with real grasping here (the objects are just bounding boxes anyway)."
   ]
  },
  {
   "cell_type": "code",
   "execution_count": 10,
   "metadata": {},
   "outputs": [],
   "source": [
    "robot.GetController().Reset()\n",
    "robot.Grab(obj)\n",
    "utils.pr2_tuck_arm(robot)"
   ]
  },
  {
   "cell_type": "markdown",
   "metadata": {},
   "source": [
    "We are almost done. The final step is to find a free spot on a table, move there and place the object down. Finding a free spot on a table is very similar to finding a grasping position, but this time instead of checking grasps we check reachability of a random point on a surface. After having found the object we just teleport the robot, we already checked that motion planning works."
   ]
  },
  {
   "cell_type": "code",
   "execution_count": 11,
   "metadata": {},
   "outputs": [],
   "source": [
    "pose, sol, torso = generate_reaching_poses.get_collision_free_surface_pose(robot, table, 100)\n",
    "robot.SetTransform(pose)\n",
    "robot.SetDOFValues(sol, robot.GetActiveManipulator().GetArmIndices())\n",
    "robot.SetDOFValues([torso], [robot.GetJointIndex('torso_lift_joint')],)\n",
    "robot.Release(obj)\n",
    "utils.pr2_tuck_arm(robot)"
   ]
  },
  {
   "cell_type": "markdown",
   "metadata": {},
   "source": [
    "That's it! quite crude but effective!"
   ]
  }
 ],
 "metadata": {
  "kernelspec": {
   "display_name": "Python 2",
   "language": "python",
   "name": "python2"
  },
  "language_info": {
   "codemirror_mode": {
    "name": "ipython",
    "version": 2
   },
   "file_extension": ".py",
   "mimetype": "text/x-python",
   "name": "python",
   "nbconvert_exporter": "python",
   "pygments_lexer": "ipython2",
   "version": "2.7.17"
  }
 },
 "nbformat": 4,
 "nbformat_minor": 1
}
